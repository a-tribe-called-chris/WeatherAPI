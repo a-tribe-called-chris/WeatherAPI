{
 "cells": [
  {
   "cell_type": "code",
   "execution_count": 62,
   "metadata": {},
   "outputs": [
    {
     "ename": "IndentationError",
     "evalue": "unindent does not match any outer indentation level (<tokenize>, line 15)",
     "output_type": "error",
     "traceback": [
      "\u001b[1;36m  File \u001b[1;32m\"<tokenize>\"\u001b[1;36m, line \u001b[1;32m15\u001b[0m\n\u001b[1;33m    forecast_data = forecast.json()\u001b[0m\n\u001b[1;37m    ^\u001b[0m\n\u001b[1;31mIndentationError\u001b[0m\u001b[1;31m:\u001b[0m unindent does not match any outer indentation level\n"
     ]
    }
   ],
   "source": [
    "import requests\n",
    "# Path: Untitled-3.ipynb\n",
    "def get_weather_data():\n",
    "  lat_long = '38,77'\n",
    "  url_base = 'https://api.weather.gov/gridpoints/LWX/96,70/forecast'\n",
    "  response = requests.get(url_base)\n",
    "  data = response.json()\n",
    "  return data\n",
    "\n",
    "def get_weather_data2():\n",
    "\tresponse = requests.get('https://api.weather.gov/points/28.1946971,-82.3459212')\n",
    "\tparams = response.json()\n",
    "\tforecast_url = params['properties']['forecast']\n",
    "\tforecast = requests.get(forecast_url)\n",
    "  forecast_data = forecast.json()\n",
    "  return forecast_data\n",
    "\n",
    "get_weather_data()\n",
    "get_weather_data2()"
   ]
  }
 ],
 "metadata": {
  "kernelspec": {
   "display_name": "Python 3",
   "language": "python",
   "name": "python3"
  },
  "language_info": {
   "codemirror_mode": {
    "name": "ipython",
    "version": 3
   },
   "file_extension": ".py",
   "mimetype": "text/x-python",
   "name": "python",
   "nbconvert_exporter": "python",
   "pygments_lexer": "ipython3",
   "version": "3.7.0"
  },
  "orig_nbformat": 4,
  "vscode": {
   "interpreter": {
    "hash": "4c07db3b1d72aa2a34935254356b241dc320d5e7b7a54f32b10f9262b7798cc3"
   }
  }
 },
 "nbformat": 4,
 "nbformat_minor": 2
}
